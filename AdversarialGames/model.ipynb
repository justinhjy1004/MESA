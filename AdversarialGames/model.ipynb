{
 "cells": [
  {
   "cell_type": "code",
   "execution_count": 3,
   "metadata": {},
   "outputs": [],
   "source": [
    "from mesa import Agent, Model\n",
    "from mesa.time import StagedActivation"
   ]
  },
  {
   "cell_type": "code",
   "execution_count": 27,
   "metadata": {},
   "outputs": [],
   "source": [
    "## Parameters \n",
    "N = 5"
   ]
  },
  {
   "cell_type": "code",
   "execution_count": 28,
   "metadata": {},
   "outputs": [],
   "source": [
    "class DummyAgent(Agent):\n",
    "    def __init__(self, id, model):\n",
    "        super().__init__(id, model)\n",
    "        self.model_state = model\n",
    "        self.id = id\n",
    "        self.others = list(range(0,N))\n",
    "        self.others.remove(self.id)\n",
    "    \n",
    "    def choose(self):\n",
    "        # Implementation of move action\n",
    "        if self.model_state.whose_turn == self.id:\n",
    "            print(\"choose\" + str(self.id))\n",
    "        else:\n",
    "            pass\n",
    "    \n",
    "    def vote(self):\n",
    "        # Implementation of interaction with other agents\n",
    "        #print(\"interact\")\n",
    "        pass\n",
    "    \n",
    "    def act(self):\n",
    "        # Update internal state\n",
    "        #print(\"update\")\n",
    "        pass\n",
    "\n",
    "\n",
    "class MyModel(Model):\n",
    "    def __init__(self, N=N):\n",
    "        \n",
    "        super().__init__()\n",
    "\n",
    "        self.num_agents = N\n",
    "\n",
    "        self.schedule = StagedActivation(self, stage_list=[\"choose\", \"vote\", \"act\"])\n",
    "        self.round = 0 \n",
    "        self.whose_turn = self.round % N\n",
    "        \n",
    "        # Change this up a little\n",
    "        for i in range(self.num_agents):  # Example: creating 10 agents\n",
    "            agent = DummyAgent(i, self)\n",
    "            self.schedule.add(agent)\n",
    "\n",
    "    def step(self):\n",
    "        self.schedule.step()\n",
    "        self.round += 1\n",
    "        self.whose_turn = self.round % N\n"
   ]
  },
  {
   "cell_type": "code",
   "execution_count": 30,
   "metadata": {},
   "outputs": [
    {
     "name": "stdout",
     "output_type": "stream",
     "text": [
      "choose0\n",
      "choose1\n",
      "choose2\n",
      "choose3\n",
      "choose4\n",
      "choose0\n",
      "choose1\n",
      "choose2\n",
      "choose3\n",
      "choose4\n"
     ]
    }
   ],
   "source": [
    "model = MyModel(N)\n",
    "\n",
    "for i in range(10):\n",
    "    model.step()\n"
   ]
  },
  {
   "cell_type": "code",
   "execution_count": 43,
   "metadata": {},
   "outputs": [],
   "source": [
    "x = list(range(0,10))\n",
    "y = x.remove(5)"
   ]
  },
  {
   "cell_type": "code",
   "execution_count": 45,
   "metadata": {},
   "outputs": [
    {
     "data": {
      "text/plain": [
       "[0, 1, 2, 3, 4, 6, 7, 8, 9]"
      ]
     },
     "execution_count": 45,
     "metadata": {},
     "output_type": "execute_result"
    }
   ],
   "source": [
    "x"
   ]
  },
  {
   "cell_type": "code",
   "execution_count": null,
   "metadata": {},
   "outputs": [],
   "source": []
  }
 ],
 "metadata": {
  "kernelspec": {
   "display_name": "base",
   "language": "python",
   "name": "python3"
  },
  "language_info": {
   "codemirror_mode": {
    "name": "ipython",
    "version": 3
   },
   "file_extension": ".py",
   "mimetype": "text/x-python",
   "name": "python",
   "nbconvert_exporter": "python",
   "pygments_lexer": "ipython3",
   "version": "3.10.9"
  }
 },
 "nbformat": 4,
 "nbformat_minor": 2
}
