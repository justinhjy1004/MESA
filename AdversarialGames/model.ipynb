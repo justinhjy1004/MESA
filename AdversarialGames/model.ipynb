{
 "cells": [
  {
   "cell_type": "code",
   "execution_count": 1,
   "metadata": {},
   "outputs": [],
   "source": [
    "from mesa import Agent, Model\n",
    "from mesa.time import StagedActivation\n",
    "import random\n",
    "import numpy as np\n",
    "\n",
    "random.seed(42)"
   ]
  },
  {
   "cell_type": "code",
   "execution_count": 7,
   "metadata": {},
   "outputs": [],
   "source": [
    "## Parameters \n",
    "N = 10\n",
    "prop_adversaries = .3\n",
    "coin_toss = .8"
   ]
  },
  {
   "cell_type": "code",
   "execution_count": 15,
   "metadata": {},
   "outputs": [],
   "source": [
    "class DummyAgent(Agent):\n",
    "    def __init__(self, id, model):\n",
    "\n",
    "        ## Apparently this is always needed\n",
    "        super().__init__(id, model)\n",
    "\n",
    "        \n",
    "\n",
    "        ## Every agent has access to the model, bad design, I know, but I am lazy :( \n",
    "        self.model_state = model\n",
    "        ## Unique ID, based on integer\n",
    "        self.id = id\n",
    "\n",
    "        ## This is the list of \"others\" ID to choose from\n",
    "        self.others = list(range(0,N))\n",
    "        self.others.remove(self.id)\n",
    "\n",
    "        ## The belief vector that corresponds to the the IDs\n",
    "        ## It is the belief that an agent is good\n",
    "        self.belief = [1 - prop_adversaries] *  (N - 1)\n",
    "\n",
    "        ## The belief vector that corresponds to the the IDs\n",
    "        self.votes = []\n",
    "\n",
    "    ## Should be fixed for every agent\n",
    "    def select_from_belief(self):\n",
    "\n",
    "        ## For conversion to a valid probability distribution\n",
    "        normalizing_constant = sum(self.belief)\n",
    "        \n",
    "        ## If the agent does not trust anyone, then\n",
    "        if normalizing_constant == 0:\n",
    "            ## No one was chosen\n",
    "            self.model_state.chose = False\n",
    "            return -1\n",
    "        \n",
    "        else:\n",
    "\n",
    "            selection_probability = [b / normalizing_constant for b in self.belief]\n",
    "            # Using random.choices() for a single selection\n",
    "            selected_item = random.choices(self.others, weights=selection_probability, k=1)[0]\n",
    "\n",
    "            return selected_item\n",
    "    \n",
    "    def choose(self):\n",
    "\n",
    "        # Implementation of choose action\n",
    "        if self.model_state.whose_turn == self.id:\n",
    "\n",
    "            choice = self.select_from_belief()\n",
    "            self.model_state.chosen.append(choice)\n",
    "            \n",
    "        else:\n",
    "            pass\n",
    "    \n",
    "    def vote(self):\n",
    "        \n",
    "        ## if someone is chosen\n",
    "        if self.model_state.chose:\n",
    "\n",
    "            chooser = self.model_state.whose_turn\n",
    "            chosen = self.model_state.chosen[-1]\n",
    "\n",
    "            belief_chooser, belief_chosen = None, None\n",
    "\n",
    "            ## If you are the chooser\n",
    "            if chooser == self.id:\n",
    "                belief_chooser = 1\n",
    "            ## If you are the chosen\n",
    "            elif chosen == self.id:\n",
    "                belief_chosen = 1\n",
    "            \n",
    "            ## What to do if you are neither\n",
    "            ## Then look at my current belief\n",
    "            if belief_chooser is None:\n",
    "                belief_chooser = self.belief[self.others.index(chooser)]\n",
    "            if belief_chosen is None:\n",
    "                belief_chosen = self.belief[self.others.index(chosen)]\n",
    "\n",
    "            ## What is your vote?\n",
    "            if belief_chooser + belief_chosen > 1:\n",
    "                ## TODO\n",
    "                current_vote = random.randint(0, 1)\n",
    "            else:\n",
    "                ## TODO\n",
    "                current_vote = 0\n",
    "\n",
    "        ## if nobody was chosen\n",
    "        else: \n",
    "\n",
    "            current_vote = -1\n",
    "\n",
    "        ## track my current vote\n",
    "        self.votes.append(current_vote)\n",
    "        ## update the model state\n",
    "        self.model_state.votes_round.append(current_vote)\n",
    "        \n",
    "    \n",
    "    def act(self):\n",
    "        \n",
    "        ## what if no one was chosen, then no action\n",
    "        if self.model_state.chose is not True:\n",
    "            pass\n",
    "\n",
    "        ## vote outcome must be a strict majority\n",
    "        vote_outcome = sum(self.model_state.votes_round)/len(self.model_state.votes_round)\n",
    "        if vote_outcome <= 0.5:\n",
    "            ## TODO, what happens if fail\n",
    "            pass\n",
    "\n",
    "        ## action for chooser \n",
    "        if self.id == self.model_state.whose_turn:\n",
    "            action = random.randint(0, 1)\n",
    "            self.model_state.action_round[0] = action\n",
    "        ## action for chosen\n",
    "        elif self.id == self.model_state.chosen[-1]:\n",
    "            action = random.randint(0, 1)\n",
    "            self.model_state.action_round[1] = action\n",
    "\n",
    "        else:\n",
    "            pass\n",
    "\n",
    "    def update(self):\n",
    "\n",
    "        pass\n",
    "\n",
    "\n",
    "class MyModel(Model):\n",
    "    def __init__(self, N=N):\n",
    "        \n",
    "        super().__init__()\n",
    "\n",
    "        assert N > 0, \"N must be greater than 0.\"\n",
    "        self.num_agents = N\n",
    "\n",
    "        ## Staged activation to determine which round\n",
    "        ## And whose turn to be the chooser\n",
    "        self.schedule = StagedActivation(self, stage_list=[\"choose\", \"vote\", \"act\", \"update\"])\n",
    "        self.round = 0 \n",
    "        self.whose_turn = self.round % N\n",
    "\n",
    "        ## if anyone was chosen\n",
    "        self.chose = True\n",
    "        ## who is the chosen, and -1 flags is that no one was\n",
    "        self.chosen = []\n",
    "\n",
    "        ## voting record of across the rounds\n",
    "        self.voting_record = []\n",
    "        ## voting record of the current round\n",
    "        self.votes_round = []\n",
    "\n",
    "        ## Action\n",
    "        self.action_record = []\n",
    "        self.action_round = [-1,-1]\n",
    "\n",
    "        ## Outcome \n",
    "        self.outcome = []\n",
    "        \n",
    "        # Change this up a little\n",
    "        for i in range(self.num_agents):  # Example: creating 10 agents\n",
    "            agent = DummyAgent(i, self)\n",
    "            self.schedule.add(agent)\n",
    "\n",
    "    def step(self):\n",
    "        self.schedule.step()\n",
    "        self.round += 1\n",
    "\n",
    "        ## determine which team won in given round\n",
    "        ## 1 = Good team wins, 0 = Bad team wins\n",
    "        if self.action_round[0] == 1 and self.action_round[1] == 1:\n",
    "            self.outcome.append(1)\n",
    "        else:\n",
    "            self.outcome.append(0)\n",
    "\n",
    "        ## Reset Parameters\n",
    "        self.whose_turn = self.round % N\n",
    "        self.chose = True\n",
    "        self.voting_record.append(self.votes_round)\n",
    "        self.votes_round = []\n",
    "        self.action_round = [-1,-1]\n"
   ]
  },
  {
   "cell_type": "code",
   "execution_count": 16,
   "metadata": {},
   "outputs": [],
   "source": [
    "model = MyModel(N)\n",
    "\n",
    "for i in range(10):\n",
    "    model.step()\n"
   ]
  },
  {
   "cell_type": "code",
   "execution_count": 18,
   "metadata": {},
   "outputs": [
    {
     "data": {
      "text/plain": [
       "[1, 0, 0, 1, 0, 0, 0, 0, 0, 0]"
      ]
     },
     "execution_count": 18,
     "metadata": {},
     "output_type": "execute_result"
    }
   ],
   "source": [
    "model.outcome"
   ]
  },
  {
   "cell_type": "code",
   "execution_count": 11,
   "metadata": {},
   "outputs": [
    {
     "data": {
      "text/plain": [
       "'apple'"
      ]
     },
     "execution_count": 11,
     "metadata": {},
     "output_type": "execute_result"
    }
   ],
   "source": [
    "# Example lists\n",
    "items = ['apple', 'banana', 'cherry']\n",
    "probabilities = [0.1, 0.6, 0.3]\n",
    "\n",
    "# Using random.choices() for a single selection\n",
    "selected_item = random.choices(items, weights=probabilities, k=1)[0]\n",
    "selected_item"
   ]
  },
  {
   "cell_type": "code",
   "execution_count": 6,
   "metadata": {},
   "outputs": [
    {
     "data": {
      "text/plain": [
       "'cherry'"
      ]
     },
     "execution_count": 6,
     "metadata": {},
     "output_type": "execute_result"
    }
   ],
   "source": [
    "selected_item"
   ]
  },
  {
   "cell_type": "code",
   "execution_count": 18,
   "metadata": {},
   "outputs": [
    {
     "ename": "TypeError",
     "evalue": "unsupported operand type(s) for /: 'list' and 'float'",
     "output_type": "error",
     "traceback": [
      "\u001b[0;31m---------------------------------------------------------------------------\u001b[0m",
      "\u001b[0;31mTypeError\u001b[0m                                 Traceback (most recent call last)",
      "Cell \u001b[0;32mIn[18], line 1\u001b[0m\n\u001b[0;32m----> 1\u001b[0m \u001b[43m[\u001b[49m\u001b[38;5;241;43m0.1\u001b[39;49m\u001b[43m,\u001b[49m\u001b[43m \u001b[49m\u001b[38;5;241;43m0.6\u001b[39;49m\u001b[43m,\u001b[49m\u001b[43m \u001b[49m\u001b[38;5;241;43m0.3\u001b[39;49m\u001b[43m]\u001b[49m\u001b[38;5;241;43m/\u001b[39;49m\u001b[38;5;28;43msum\u001b[39;49m\u001b[43m(\u001b[49m\u001b[43m[\u001b[49m\u001b[38;5;241;43m0.1\u001b[39;49m\u001b[43m,\u001b[49m\u001b[43m \u001b[49m\u001b[38;5;241;43m0.6\u001b[39;49m\u001b[43m,\u001b[49m\u001b[43m \u001b[49m\u001b[38;5;241;43m0.3\u001b[39;49m\u001b[43m]\u001b[49m\u001b[43m)\u001b[49m\n",
      "\u001b[0;31mTypeError\u001b[0m: unsupported operand type(s) for /: 'list' and 'float'"
     ]
    }
   ],
   "source": [
    "[0.1, 0.6, 0.3] / sum([0.1, 0.6, 0.3])"
   ]
  },
  {
   "cell_type": "code",
   "execution_count": null,
   "metadata": {},
   "outputs": [],
   "source": []
  }
 ],
 "metadata": {
  "kernelspec": {
   "display_name": "base",
   "language": "python",
   "name": "python3"
  },
  "language_info": {
   "codemirror_mode": {
    "name": "ipython",
    "version": 3
   },
   "file_extension": ".py",
   "mimetype": "text/x-python",
   "name": "python",
   "nbconvert_exporter": "python",
   "pygments_lexer": "ipython3",
   "version": "3.10.9"
  }
 },
 "nbformat": 4,
 "nbformat_minor": 2
}
