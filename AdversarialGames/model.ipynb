{
 "cells": [
  {
   "cell_type": "code",
   "execution_count": 1,
   "metadata": {},
   "outputs": [
    {
     "name": "stderr",
     "output_type": "stream",
     "text": [
      "/Users/jho/anaconda3/lib/python3.10/site-packages/mesa/time.py:82: FutureWarning: The AgentSet is experimental. It may be changed or removed in any and all future releases, including patch releases.\n",
      "We would love to hear what you think about this new feature. If you have any thoughts, share them with us here: https://github.com/projectmesa/mesa/discussions/1919\n",
      "  self._agents: AgentSet = AgentSet(agents, model)\n"
     ]
    }
   ],
   "source": [
    "from MaxAgents import MaxRandomAgent, MaxGrimTriggerAgent\n",
    "from MinAgents import MinRandomAgent, MinGrimTriggerAgent\n",
    "from Model import MyModel, CustomDataCollector\n",
    "from math import floor\n",
    "import numpy as np\n",
    "import pandas as pd\n",
    "\n",
    "## Parameters \n",
    "N = 100\n",
    "prop_adversaries = np.arange(0.01, 0.5, 0.01)\n",
    "coin_toss = .5\n",
    "rounds_factor = 3\n",
    "\n",
    "results = []\n",
    "for p in prop_adversaries:\n",
    "    for i in range(0,10):\n",
    "        model = MyModel(N, coin_toss, p, MaxGrimTriggerAgent, MinGrimTriggerAgent)\n",
    "        for j in range(floor(N * rounds_factor)):\n",
    "            model.step()\n",
    "        _, outcome, vote_failure, belief_max, belief_min = CustomDataCollector(model)\n",
    "        results.append([\"MaxGrimTriggerAgent\", \"MinGrimTriggerAgent\", p, outcome, vote_failure, belief_max, belief_min])\n"
   ]
  },
  {
   "cell_type": "code",
   "execution_count": 2,
   "metadata": {},
   "outputs": [],
   "source": [
    "grim = pd.DataFrame(results, columns =['MaxAgent', 'MinAgent', \"probability\", 'outcome', 'vote_failure', 'belief_max', 'belief_min'])"
   ]
  },
  {
   "cell_type": "code",
   "execution_count": 3,
   "metadata": {},
   "outputs": [],
   "source": [
    "## Parameters \n",
    "N = 100\n",
    "prop_adversaries = np.arange(0.01, 0.5, 0.01)\n",
    "coin_toss = .5\n",
    "rounds_factor = 3\n",
    "\n",
    "results = []\n",
    "for p in prop_adversaries:\n",
    "    for i in range(0,10):\n",
    "        model = MyModel(N, coin_toss, p, MaxRandomAgent, MinRandomAgent)\n",
    "        for j in range(floor(N * rounds_factor)):\n",
    "            model.step()\n",
    "        _, outcome, vote_failure, belief_max, belief_min = CustomDataCollector(model)\n",
    "        results.append([\"MaxRandomAgent\", \"MinRandomAgent\", p, outcome, vote_failure, belief_max, belief_min])\n"
   ]
  },
  {
   "cell_type": "code",
   "execution_count": 4,
   "metadata": {},
   "outputs": [],
   "source": [
    "rand = pd.DataFrame(results, columns =['MaxAgent', 'MinAgent', \"probability\", 'outcome', 'vote_failure', 'belief_max', 'belief_min'])"
   ]
  },
  {
   "cell_type": "code",
   "execution_count": 5,
   "metadata": {},
   "outputs": [],
   "source": [
    "## Parameters \n",
    "N = 100\n",
    "prop_adversaries = np.arange(0.01, 0.5, 0.01)\n",
    "coin_toss = .5\n",
    "rounds_factor = 3\n",
    "\n",
    "results = []\n",
    "for p in prop_adversaries:\n",
    "    for i in range(0,10):\n",
    "        model = MyModel(N, coin_toss, p, MaxGrimTriggerAgent, MinRandomAgent)\n",
    "        for j in range(floor(N * rounds_factor)):\n",
    "            model.step()\n",
    "        _, outcome, vote_failure, belief_max, belief_min = CustomDataCollector(model)\n",
    "        results.append([\"MaxGrimTriggerAgent\", \"MinRandomAgent\", p, outcome, vote_failure, belief_max, belief_min])\n"
   ]
  },
  {
   "cell_type": "code",
   "execution_count": 6,
   "metadata": {},
   "outputs": [],
   "source": [
    "grim_rand = pd.DataFrame(results, columns =['MaxAgent', 'MinAgent', \"probability\", 'outcome', 'vote_failure', 'belief_max', 'belief_min'])"
   ]
  },
  {
   "cell_type": "code",
   "execution_count": 7,
   "metadata": {},
   "outputs": [],
   "source": [
    "df = pd.concat([grim, rand, grim_rand])"
   ]
  },
  {
   "cell_type": "code",
   "execution_count": 8,
   "metadata": {},
   "outputs": [],
   "source": [
    "df.to_csv(\"Simulation.csv\", index=None)"
   ]
  }
 ],
 "metadata": {
  "kernelspec": {
   "display_name": "base",
   "language": "python",
   "name": "python3"
  },
  "language_info": {
   "codemirror_mode": {
    "name": "ipython",
    "version": 3
   },
   "file_extension": ".py",
   "mimetype": "text/x-python",
   "name": "python",
   "nbconvert_exporter": "python",
   "pygments_lexer": "ipython3",
   "version": "3.10.9"
  }
 },
 "nbformat": 4,
 "nbformat_minor": 2
}
