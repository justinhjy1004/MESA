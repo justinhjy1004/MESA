{
 "cells": [
  {
   "cell_type": "code",
   "execution_count": 2,
   "metadata": {},
   "outputs": [
    {
     "name": "stdout",
     "output_type": "stream",
     "text": [
      "0.6\n",
      "0.6\n"
     ]
    },
    {
     "name": "stderr",
     "output_type": "stream",
     "text": [
      "/Users/jho/anaconda3/lib/python3.10/site-packages/mesa/time.py:82: FutureWarning: The AgentSet is experimental. It may be changed or removed in any and all future releases, including patch releases.\n",
      "We would love to hear what you think about this new feature. If you have any thoughts, share them with us here: https://github.com/projectmesa/mesa/discussions/1919\n",
      "  self._agents: AgentSet = AgentSet(agents, model)\n"
     ]
    }
   ],
   "source": [
    "from MaxAgents import MaxRandomAgent, MaxGrimTriggerAgent\n",
    "from MinAgents import MinRandomAgent, MinGrimTriggerAgent\n",
    "from Model import MyModel, CustomDataCollector\n",
    "from math import floor\n",
    "\n",
    "\n",
    "## Parameters \n",
    "N = 10\n",
    "prop_adversaries = .4\n",
    "coin_toss = .5\n",
    "rounds_factor = 3\n",
    "\n",
    "model = MyModel(N, coin_toss, prop_adversaries, MaxGrimTriggerAgent, MinGrimTriggerAgent)\n",
    "\n",
    "for i in range(floor(N * rounds_factor)):\n",
    "    model.step()\n",
    "\n",
    "df = CustomDataCollector(model)\n",
    "df[\"VoteFailed\"] = df[\"Action\"].apply(lambda x: 1 if (x[0] == -1 and x[1] == -1) else 0)\n",
    "print(sum(df[\"Outcome\"]) / floor(N * rounds_factor))\n",
    "print(sum(df[\"VoteFailed\"]) / floor(N * rounds_factor))"
   ]
  },
  {
   "cell_type": "code",
   "execution_count": 3,
   "metadata": {},
   "outputs": [
    {
     "name": "stdout",
     "output_type": "stream",
     "text": [
      "0.6333333333333333\n",
      "0.6\n"
     ]
    }
   ],
   "source": [
    "model = MyModel(N, coin_toss, prop_adversaries, MaxGrimTriggerAgent, MinRandomAgent)\n",
    "\n",
    "for i in range(floor(N * rounds_factor)):\n",
    "    model.step()\n",
    "\n",
    "df = CustomDataCollector(model)\n",
    "df[\"VoteFailed\"] = df[\"Action\"].apply(lambda x: 1 if (x[0] == -1 and x[1] == -1) else 0)\n",
    "print(sum(df[\"Outcome\"]) / floor(N * rounds_factor))\n",
    "print(sum(df[\"VoteFailed\"]) / floor(N * rounds_factor))"
   ]
  },
  {
   "cell_type": "code",
   "execution_count": 4,
   "metadata": {},
   "outputs": [
    {
     "data": {
      "text/plain": [
       "[False, False, False, True, True, True, False, True, False, False]"
      ]
     },
     "execution_count": 4,
     "metadata": {},
     "output_type": "execute_result"
    }
   ],
   "source": [
    "model.adversarial"
   ]
  }
 ],
 "metadata": {
  "kernelspec": {
   "display_name": "base",
   "language": "python",
   "name": "python3"
  },
  "language_info": {
   "codemirror_mode": {
    "name": "ipython",
    "version": 3
   },
   "file_extension": ".py",
   "mimetype": "text/x-python",
   "name": "python",
   "nbconvert_exporter": "python",
   "pygments_lexer": "ipython3",
   "version": "3.10.9"
  }
 },
 "nbformat": 4,
 "nbformat_minor": 2
}
