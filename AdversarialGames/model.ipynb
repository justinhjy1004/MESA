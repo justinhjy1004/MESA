{
 "cells": [
  {
   "cell_type": "code",
   "execution_count": 27,
   "metadata": {},
   "outputs": [],
   "source": [
    "from MaxAgents import MaxRandomAgent, MaxGrimTriggerAgent\n",
    "from MinAgents import MinRandomAgent\n",
    "from Model import MyModel, CustomDataCollector\n",
    "from math import floor\n",
    "\n",
    "## Parameters \n",
    "N = 10\n",
    "prop_adversaries = .3\n",
    "coin_toss = prop_adversaries\n",
    "rounds_factor = 3\n",
    "\n",
    "model = MyModel(N, coin_toss, prop_adversaries, MaxGrimTriggerAgent, MinRandomAgent)\n",
    "\n",
    "for i in range(floor(N * rounds_factor)):\n",
    "    model.step()\n",
    "\n",
    "df = CustomDataCollector(model)"
   ]
  },
  {
   "cell_type": "code",
   "execution_count": 28,
   "metadata": {},
   "outputs": [
    {
     "data": {
      "text/plain": [
       "0.8"
      ]
     },
     "execution_count": 28,
     "metadata": {},
     "output_type": "execute_result"
    }
   ],
   "source": [
    "sum(df[\"Outcome\"]) / floor(N * rounds_factor)"
   ]
  },
  {
   "cell_type": "code",
   "execution_count": 29,
   "metadata": {},
   "outputs": [],
   "source": [
    "beliefs = []\n",
    "adversarial = model.adversarial\n",
    "for i in range(0, len(adversarial)):\n",
    "    if not adversarial[i]:\n",
    "        beliefs.append(model.agents[i].belief)"
   ]
  },
  {
   "cell_type": "code",
   "execution_count": 30,
   "metadata": {},
   "outputs": [
    {
     "data": {
      "text/plain": [
       "[False, False, False, False, True, False, True, False, True, False]"
      ]
     },
     "execution_count": 30,
     "metadata": {},
     "output_type": "execute_result"
    }
   ],
   "source": [
    "adversarial"
   ]
  },
  {
   "cell_type": "code",
   "execution_count": 31,
   "metadata": {},
   "outputs": [
    {
     "data": {
      "text/plain": [
       "[{1: 1, 2: 0, 3: 0, 4: 0, 5: 1, 6: 0, 7: 0, 8: 0, 9: 0},\n",
       " {0: 0, 2: 0, 3: 0, 4: 0, 5: 1, 6: 0, 7: 0, 8: 0, 9: 0},\n",
       " {0: 0, 1: 1, 3: 0, 4: 0, 5: 1, 6: 0, 7: 0, 8: 0, 9: 0},\n",
       " {0: 0, 1: 1, 2: 0, 4: 0, 5: 1, 6: 0, 7: 0, 8: 0, 9: 0},\n",
       " {0: 0, 1: 1, 2: 0, 3: 0, 4: 0, 5: 1, 6: 0, 8: 0, 9: 0},\n",
       " {0: 1, 1: 1, 2: 1, 3: 1, 5: 1, 6: 1, 7: 1, 8: 1, 9: 1},\n",
       " {0: 1, 1: 1, 2: 1, 3: 1, 4: 1, 5: 1, 6: 1, 7: 1, 9: 1}]"
      ]
     },
     "execution_count": 31,
     "metadata": {},
     "output_type": "execute_result"
    }
   ],
   "source": [
    "beliefs"
   ]
  },
  {
   "cell_type": "code",
   "execution_count": 9,
   "metadata": {},
   "outputs": [
    {
     "data": {
      "text/html": [
       "<div>\n",
       "<style scoped>\n",
       "    .dataframe tbody tr th:only-of-type {\n",
       "        vertical-align: middle;\n",
       "    }\n",
       "\n",
       "    .dataframe tbody tr th {\n",
       "        vertical-align: top;\n",
       "    }\n",
       "\n",
       "    .dataframe thead th {\n",
       "        text-align: right;\n",
       "    }\n",
       "</style>\n",
       "<table border=\"1\" class=\"dataframe\">\n",
       "  <thead>\n",
       "    <tr style=\"text-align: right;\">\n",
       "      <th></th>\n",
       "      <th>Pairs</th>\n",
       "      <th>Voting</th>\n",
       "      <th>Outcome</th>\n",
       "      <th>Action</th>\n",
       "    </tr>\n",
       "  </thead>\n",
       "  <tbody>\n",
       "    <tr>\n",
       "      <th>0</th>\n",
       "      <td>(0, 8)</td>\n",
       "      <td>[1, 1, 1, 1, 1, 1, 1, 1, 1, 1]</td>\n",
       "      <td>0</td>\n",
       "      <td>[0, 1]</td>\n",
       "    </tr>\n",
       "    <tr>\n",
       "      <th>1</th>\n",
       "      <td>(1, 2)</td>\n",
       "      <td>[1, 1, 1, 1, 1, 1, 1, 1, 1, 1]</td>\n",
       "      <td>0</td>\n",
       "      <td>[1, 0]</td>\n",
       "    </tr>\n",
       "    <tr>\n",
       "      <th>2</th>\n",
       "      <td>(2, 0)</td>\n",
       "      <td>[1, 0, 1, 1, 0, 0, 0, 0, 0, 0]</td>\n",
       "      <td>0</td>\n",
       "      <td>[-1, -1]</td>\n",
       "    </tr>\n",
       "    <tr>\n",
       "      <th>3</th>\n",
       "      <td>(3, 7)</td>\n",
       "      <td>[1, 1, 1, 1, 1, 1, 1, 1, 1, 1]</td>\n",
       "      <td>0</td>\n",
       "      <td>[0, 1]</td>\n",
       "    </tr>\n",
       "    <tr>\n",
       "      <th>4</th>\n",
       "      <td>(4, 6)</td>\n",
       "      <td>[1, 1, 1, 1, 1, 1, 1, 1, 1, 1]</td>\n",
       "      <td>1</td>\n",
       "      <td>[1, 1]</td>\n",
       "    </tr>\n",
       "    <tr>\n",
       "      <th>5</th>\n",
       "      <td>(5, 6)</td>\n",
       "      <td>[1, 1, 1, 1, 1, 1, 1, 1, 1, 1]</td>\n",
       "      <td>1</td>\n",
       "      <td>[1, 1]</td>\n",
       "    </tr>\n",
       "    <tr>\n",
       "      <th>6</th>\n",
       "      <td>(6, 4)</td>\n",
       "      <td>[1, 1, 1, 1, 1, 1, 1, 1, 1, 1]</td>\n",
       "      <td>1</td>\n",
       "      <td>[1, 1]</td>\n",
       "    </tr>\n",
       "    <tr>\n",
       "      <th>7</th>\n",
       "      <td>(7, 4)</td>\n",
       "      <td>[1, 0, 1, 1, 0, 0, 0, 1, 0, 0]</td>\n",
       "      <td>1</td>\n",
       "      <td>[-1, -1]</td>\n",
       "    </tr>\n",
       "    <tr>\n",
       "      <th>8</th>\n",
       "      <td>(8, 4)</td>\n",
       "      <td>[1, 0, 1, 1, 0, 0, 0, 0, 1, 0]</td>\n",
       "      <td>1</td>\n",
       "      <td>[-1, -1]</td>\n",
       "    </tr>\n",
       "    <tr>\n",
       "      <th>9</th>\n",
       "      <td>(9, 5)</td>\n",
       "      <td>[1, 1, 1, 1, 1, 1, 1, 1, 1, 1]</td>\n",
       "      <td>1</td>\n",
       "      <td>[1, 1]</td>\n",
       "    </tr>\n",
       "    <tr>\n",
       "      <th>10</th>\n",
       "      <td>(0, 6)</td>\n",
       "      <td>[1, 0, 1, 1, 0, 0, 0, 0, 0, 0]</td>\n",
       "      <td>1</td>\n",
       "      <td>[-1, -1]</td>\n",
       "    </tr>\n",
       "    <tr>\n",
       "      <th>11</th>\n",
       "      <td>(1, 4)</td>\n",
       "      <td>[1, 1, 1, 1, 0, 0, 0, 0, 0, 0]</td>\n",
       "      <td>1</td>\n",
       "      <td>[-1, -1]</td>\n",
       "    </tr>\n",
       "    <tr>\n",
       "      <th>12</th>\n",
       "      <td>(2, 4)</td>\n",
       "      <td>[1, 0, 1, 1, 0, 0, 0, 0, 0, 0]</td>\n",
       "      <td>1</td>\n",
       "      <td>[-1, -1]</td>\n",
       "    </tr>\n",
       "    <tr>\n",
       "      <th>13</th>\n",
       "      <td>(3, 8)</td>\n",
       "      <td>[1, 0, 1, 1, 0, 0, 0, 0, 0, 0]</td>\n",
       "      <td>1</td>\n",
       "      <td>[-1, -1]</td>\n",
       "    </tr>\n",
       "    <tr>\n",
       "      <th>14</th>\n",
       "      <td>(4, 5)</td>\n",
       "      <td>[1, 1, 1, 1, 1, 1, 1, 1, 1, 1]</td>\n",
       "      <td>1</td>\n",
       "      <td>[1, 1]</td>\n",
       "    </tr>\n",
       "    <tr>\n",
       "      <th>15</th>\n",
       "      <td>(5, 9)</td>\n",
       "      <td>[1, 1, 1, 1, 1, 1, 1, 1, 1, 1]</td>\n",
       "      <td>1</td>\n",
       "      <td>[1, 1]</td>\n",
       "    </tr>\n",
       "    <tr>\n",
       "      <th>16</th>\n",
       "      <td>(6, 4)</td>\n",
       "      <td>[1, 1, 1, 1, 1, 1, 1, 1, 1, 1]</td>\n",
       "      <td>1</td>\n",
       "      <td>[1, 1]</td>\n",
       "    </tr>\n",
       "    <tr>\n",
       "      <th>17</th>\n",
       "      <td>(7, 5)</td>\n",
       "      <td>[1, 0, 1, 1, 0, 0, 0, 1, 0, 0]</td>\n",
       "      <td>1</td>\n",
       "      <td>[-1, -1]</td>\n",
       "    </tr>\n",
       "    <tr>\n",
       "      <th>18</th>\n",
       "      <td>(8, 6)</td>\n",
       "      <td>[1, 0, 1, 1, 0, 0, 0, 0, 1, 0]</td>\n",
       "      <td>1</td>\n",
       "      <td>[-1, -1]</td>\n",
       "    </tr>\n",
       "    <tr>\n",
       "      <th>19</th>\n",
       "      <td>(9, 4)</td>\n",
       "      <td>[1, 1, 1, 1, 1, 1, 1, 1, 1, 1]</td>\n",
       "      <td>1</td>\n",
       "      <td>[1, 1]</td>\n",
       "    </tr>\n",
       "  </tbody>\n",
       "</table>\n",
       "</div>"
      ],
      "text/plain": [
       "     Pairs                          Voting  Outcome    Action\n",
       "0   (0, 8)  [1, 1, 1, 1, 1, 1, 1, 1, 1, 1]        0    [0, 1]\n",
       "1   (1, 2)  [1, 1, 1, 1, 1, 1, 1, 1, 1, 1]        0    [1, 0]\n",
       "2   (2, 0)  [1, 0, 1, 1, 0, 0, 0, 0, 0, 0]        0  [-1, -1]\n",
       "3   (3, 7)  [1, 1, 1, 1, 1, 1, 1, 1, 1, 1]        0    [0, 1]\n",
       "4   (4, 6)  [1, 1, 1, 1, 1, 1, 1, 1, 1, 1]        1    [1, 1]\n",
       "5   (5, 6)  [1, 1, 1, 1, 1, 1, 1, 1, 1, 1]        1    [1, 1]\n",
       "6   (6, 4)  [1, 1, 1, 1, 1, 1, 1, 1, 1, 1]        1    [1, 1]\n",
       "7   (7, 4)  [1, 0, 1, 1, 0, 0, 0, 1, 0, 0]        1  [-1, -1]\n",
       "8   (8, 4)  [1, 0, 1, 1, 0, 0, 0, 0, 1, 0]        1  [-1, -1]\n",
       "9   (9, 5)  [1, 1, 1, 1, 1, 1, 1, 1, 1, 1]        1    [1, 1]\n",
       "10  (0, 6)  [1, 0, 1, 1, 0, 0, 0, 0, 0, 0]        1  [-1, -1]\n",
       "11  (1, 4)  [1, 1, 1, 1, 0, 0, 0, 0, 0, 0]        1  [-1, -1]\n",
       "12  (2, 4)  [1, 0, 1, 1, 0, 0, 0, 0, 0, 0]        1  [-1, -1]\n",
       "13  (3, 8)  [1, 0, 1, 1, 0, 0, 0, 0, 0, 0]        1  [-1, -1]\n",
       "14  (4, 5)  [1, 1, 1, 1, 1, 1, 1, 1, 1, 1]        1    [1, 1]\n",
       "15  (5, 9)  [1, 1, 1, 1, 1, 1, 1, 1, 1, 1]        1    [1, 1]\n",
       "16  (6, 4)  [1, 1, 1, 1, 1, 1, 1, 1, 1, 1]        1    [1, 1]\n",
       "17  (7, 5)  [1, 0, 1, 1, 0, 0, 0, 1, 0, 0]        1  [-1, -1]\n",
       "18  (8, 6)  [1, 0, 1, 1, 0, 0, 0, 0, 1, 0]        1  [-1, -1]\n",
       "19  (9, 4)  [1, 1, 1, 1, 1, 1, 1, 1, 1, 1]        1    [1, 1]"
      ]
     },
     "execution_count": 9,
     "metadata": {},
     "output_type": "execute_result"
    }
   ],
   "source": [
    "df.head(20)"
   ]
  },
  {
   "cell_type": "code",
   "execution_count": 4,
   "metadata": {},
   "outputs": [],
   "source": [
    "model = MyModel(N, coin_toss, prop_adversaries, MaxRandomAgent, MinRandomAgent)\n",
    "\n",
    "for i in range(floor(N * rounds_factor)):\n",
    "    model.step()\n",
    "\n",
    "df = CustomDataCollector(model)"
   ]
  },
  {
   "cell_type": "code",
   "execution_count": 5,
   "metadata": {},
   "outputs": [
    {
     "data": {
      "text/plain": [
       "0.36666666666666664"
      ]
     },
     "execution_count": 5,
     "metadata": {},
     "output_type": "execute_result"
    }
   ],
   "source": [
    "sum(df[\"Outcome\"]) / floor(N * rounds_factor)"
   ]
  },
  {
   "cell_type": "code",
   "execution_count": null,
   "metadata": {},
   "outputs": [],
   "source": []
  }
 ],
 "metadata": {
  "kernelspec": {
   "display_name": "base",
   "language": "python",
   "name": "python3"
  },
  "language_info": {
   "codemirror_mode": {
    "name": "ipython",
    "version": 3
   },
   "file_extension": ".py",
   "mimetype": "text/x-python",
   "name": "python",
   "nbconvert_exporter": "python",
   "pygments_lexer": "ipython3",
   "version": "3.10.9"
  }
 },
 "nbformat": 4,
 "nbformat_minor": 2
}
