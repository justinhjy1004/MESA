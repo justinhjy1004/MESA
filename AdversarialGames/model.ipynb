{
 "cells": [
  {
   "cell_type": "code",
   "execution_count": 176,
   "metadata": {},
   "outputs": [
    {
     "name": "stdout",
     "output_type": "stream",
     "text": [
      "0.6\n",
      "0.6333333333333333\n"
     ]
    }
   ],
   "source": [
    "from MaxAgents import MaxRandomAgent, MaxGrimTriggerAgent\n",
    "from MinAgents import MinRandomAgent, MinGrimTriggerAgent\n",
    "from Model import MyModel, CustomDataCollector\n",
    "from math import floor\n",
    "\n",
    "\n",
    "## Parameters \n",
    "N = 10\n",
    "prop_adversaries = .4\n",
    "coin_toss = .5\n",
    "rounds_factor = 3\n",
    "\n",
    "model = MyModel(N, coin_toss, prop_adversaries, MaxGrimTriggerAgent, MinGrimTriggerAgent)\n",
    "\n",
    "for i in range(floor(N * rounds_factor)):\n",
    "    model.step()\n",
    "\n",
    "df = CustomDataCollector(model)\n",
    "df[\"VoteFailed\"] = df[\"Action\"].apply(lambda x: 1 if (x[0] == -1 and x[1] == -1) else 0)\n",
    "print(sum(df[\"Outcome\"]) / floor(N * rounds_factor))\n",
    "print(sum(df[\"VoteFailed\"]) / floor(N * rounds_factor))"
   ]
  },
  {
   "cell_type": "code",
   "execution_count": 175,
   "metadata": {},
   "outputs": [
    {
     "name": "stdout",
     "output_type": "stream",
     "text": [
      "0.7\n",
      "0.4666666666666667\n"
     ]
    }
   ],
   "source": [
    "model = MyModel(N, coin_toss, prop_adversaries, MaxGrimTriggerAgent, MinRandomAgent)\n",
    "\n",
    "for i in range(floor(N * rounds_factor)):\n",
    "    model.step()\n",
    "\n",
    "df = CustomDataCollector(model)\n",
    "df[\"VoteFailed\"] = df[\"Action\"].apply(lambda x: 1 if (x[0] == -1 and x[1] == -1) else 0)\n",
    "print(sum(df[\"Outcome\"]) / floor(N * rounds_factor))\n",
    "print(sum(df[\"VoteFailed\"]) / floor(N * rounds_factor))"
   ]
  },
  {
   "cell_type": "code",
   "execution_count": 169,
   "metadata": {},
   "outputs": [
    {
     "data": {
      "text/plain": [
       "[True, False, True, False, False, False, False, True, True, False]"
      ]
     },
     "execution_count": 169,
     "metadata": {},
     "output_type": "execute_result"
    }
   ],
   "source": [
    "model.adversarial"
   ]
  },
  {
   "cell_type": "code",
   "execution_count": 177,
   "metadata": {},
   "outputs": [
    {
     "name": "stdout",
     "output_type": "stream",
     "text": [
      "{1: 0.0, 2: 0.0, 3: 0.0, 4: 0.0, 5: 0.0, 6: 1.0, 7: 0.0, 8: 0.0, 9: 1.0, 0: 0.0}\n"
     ]
    }
   ],
   "source": [
    "from collections import defaultdict\n",
    "\n",
    "## Beliefs of Max Agents\n",
    "beliefs = []\n",
    "for agent in model.agents:\n",
    "    if type(agent) is model.MaxAgent:\n",
    "        beliefs.append(agent.belief)\n",
    "\n",
    "# Initialize dictionaries for totals and counts\n",
    "totals = defaultdict(int)\n",
    "counts = defaultdict(int)\n",
    "\n",
    "# Iterate through each dictionary in the list\n",
    "for data in beliefs:\n",
    "    # For each key-value pair in the dictionary\n",
    "    for key, value in data.items():\n",
    "        # Update the total and count for the key\n",
    "        totals[key] += value\n",
    "        counts[key] += 1\n",
    "\n",
    "# Calculate the average for each key\n",
    "averages = {key: totals[key] / counts[key] for key in totals}\n",
    "\n",
    "print(averages)"
   ]
  },
  {
   "cell_type": "code",
   "execution_count": null,
   "metadata": {},
   "outputs": [],
   "source": []
  }
 ],
 "metadata": {
  "kernelspec": {
   "display_name": "base",
   "language": "python",
   "name": "python3"
  },
  "language_info": {
   "codemirror_mode": {
    "name": "ipython",
    "version": 3
   },
   "file_extension": ".py",
   "mimetype": "text/x-python",
   "name": "python",
   "nbconvert_exporter": "python",
   "pygments_lexer": "ipython3",
   "version": "3.10.9"
  }
 },
 "nbformat": 4,
 "nbformat_minor": 2
}
