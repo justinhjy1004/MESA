{
 "cells": [
  {
   "cell_type": "code",
   "execution_count": 31,
   "metadata": {},
   "outputs": [],
   "source": [
    "from MaxAgents import MaxRandomAgent\n",
    "from MinAgents import MinRandomAgent\n",
    "from Model import MyModel\n",
    "from math import floor\n",
    "\n",
    "## Parameters \n",
    "N = 10\n",
    "prop_adversaries = .2\n",
    "coin_toss = .9\n",
    "rounds_factor = 10\n",
    "\n",
    "model = MyModel(N, coin_toss, prop_adversaries, MaxRandomAgent, MinRandomAgent)\n",
    "\n",
    "for i in range(floor(N * rounds_factor)):\n",
    "    model.step()\n",
    "\n",
    "sum(model.check_outcome())/len(model.check_outcome())"
   ]
  }
 ],
 "metadata": {
  "kernelspec": {
   "display_name": "base",
   "language": "python",
   "name": "python3"
  },
  "language_info": {
   "codemirror_mode": {
    "name": "ipython",
    "version": 3
   },
   "file_extension": ".py",
   "mimetype": "text/x-python",
   "name": "python",
   "nbconvert_exporter": "python",
   "pygments_lexer": "ipython3",
   "version": "3.10.9"
  }
 },
 "nbformat": 4,
 "nbformat_minor": 2
}
